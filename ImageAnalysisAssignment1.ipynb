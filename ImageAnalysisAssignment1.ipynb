{
  "nbformat": 4,
  "nbformat_minor": 0,
  "metadata": {
    "colab": {
      "provenance": [],
      "collapsed_sections": [
        "AelAI3Q6TZb5"
      ],
      "authorship_tag": "ABX9TyPeB9EcwQtA9sGvlQR8cuGC",
      "include_colab_link": true
    },
    "kernelspec": {
      "name": "python3",
      "display_name": "Python 3"
    },
    "language_info": {
      "name": "python"
    }
  },
  "cells": [
    {
      "cell_type": "markdown",
      "metadata": {
        "id": "view-in-github",
        "colab_type": "text"
      },
      "source": [
        "<a href=\"https://colab.research.google.com/github/claredavies/ImageAnalysisAssignment/blob/main/ImageAnalysisAssignment1.ipynb\" target=\"_parent\"><img src=\"https://colab.research.google.com/assets/colab-badge.svg\" alt=\"Open In Colab\"/></a>"
      ]
    },
    {
      "cell_type": "markdown",
      "source": [
        "# Libraries"
      ],
      "metadata": {
        "id": "AelAI3Q6TZb5"
      }
    },
    {
      "cell_type": "code",
      "execution_count": 2,
      "metadata": {
        "id": "lkqG9AwpRufg"
      },
      "outputs": [],
      "source": [
        "import cv2\n",
        "import numpy as np\n",
        "import dlib\n",
        "from google.colab import files\n",
        "import io\n",
        "import pandas as pd\n",
        "import os\n",
        "from os import listdir"
      ]
    },
    {
      "cell_type": "markdown",
      "source": [
        "# Read in files"
      ],
      "metadata": {
        "id": "8YaNkhC7Tixp"
      }
    },
    {
      "cell_type": "code",
      "source": [
        "!git clone https://github.com/claredavies/ImageAnalysisAssignment.git"
      ],
      "metadata": {
        "colab": {
          "base_uri": "https://localhost:8080/"
        },
        "id": "X_LfP_ZDWGg-",
        "outputId": "c266aa56-2755-4b98-dd65-e21713d5942c"
      },
      "execution_count": 15,
      "outputs": [
        {
          "output_type": "stream",
          "name": "stdout",
          "text": [
            "Cloning into 'ImageAnalysisAssignment'...\n",
            "remote: Enumerating objects: 52, done.\u001b[K\n",
            "remote: Counting objects: 100% (52/52), done.\u001b[K\n",
            "remote: Compressing objects: 100% (45/45), done.\u001b[K\n",
            "remote: Total 52 (delta 5), reused 0 (delta 0), pack-reused 0\u001b[K\n",
            "Unpacking objects: 100% (52/52), done.\n"
          ]
        }
      ]
    },
    {
      "cell_type": "code",
      "source": [
        "%cd ImageAnalysisAssignment/Assignment1Data"
      ],
      "metadata": {
        "colab": {
          "base_uri": "https://localhost:8080/"
        },
        "id": "-WatFW_hWhU3",
        "outputId": "152cad72-b8c9-487f-9d48-e1d307ef98a1"
      },
      "execution_count": 16,
      "outputs": [
        {
          "output_type": "stream",
          "name": "stdout",
          "text": [
            "/content/ImageAnalysisAssignment/Assignment1Data/ImageAnalysisAssignment/Assignment1Data\n"
          ]
        }
      ]
    },
    {
      "cell_type": "markdown",
      "source": [
        "Read in labels"
      ],
      "metadata": {
        "id": "N6a7WbmwX0iU"
      }
    },
    {
      "cell_type": "code",
      "source": [
        "labels = pd.read_csv('Labels/people-labels.csv')\n",
        "labels.head(3)"
      ],
      "metadata": {
        "colab": {
          "base_uri": "https://localhost:8080/",
          "height": 144
        },
        "id": "ZWDLh3paTmHC",
        "outputId": "fbcffbb7-8087-4023-ee42-dc92705d2984"
      },
      "execution_count": 17,
      "outputs": [
        {
          "output_type": "execute_result",
          "data": {
            "text/plain": [
              "    Label    X    Y        Filename  Width  Height\n",
              "0  Person  317  563  1660194000.jpg   1920    1080\n",
              "1  Person  248  564  1660194000.jpg   1920    1080\n",
              "2  Person  266  576  1660194000.jpg   1920    1080"
            ],
            "text/html": [
              "\n",
              "  <div id=\"df-419ec401-199e-4f82-8635-42d351c2dfd7\">\n",
              "    <div class=\"colab-df-container\">\n",
              "      <div>\n",
              "<style scoped>\n",
              "    .dataframe tbody tr th:only-of-type {\n",
              "        vertical-align: middle;\n",
              "    }\n",
              "\n",
              "    .dataframe tbody tr th {\n",
              "        vertical-align: top;\n",
              "    }\n",
              "\n",
              "    .dataframe thead th {\n",
              "        text-align: right;\n",
              "    }\n",
              "</style>\n",
              "<table border=\"1\" class=\"dataframe\">\n",
              "  <thead>\n",
              "    <tr style=\"text-align: right;\">\n",
              "      <th></th>\n",
              "      <th>Label</th>\n",
              "      <th>X</th>\n",
              "      <th>Y</th>\n",
              "      <th>Filename</th>\n",
              "      <th>Width</th>\n",
              "      <th>Height</th>\n",
              "    </tr>\n",
              "  </thead>\n",
              "  <tbody>\n",
              "    <tr>\n",
              "      <th>0</th>\n",
              "      <td>Person</td>\n",
              "      <td>317</td>\n",
              "      <td>563</td>\n",
              "      <td>1660194000.jpg</td>\n",
              "      <td>1920</td>\n",
              "      <td>1080</td>\n",
              "    </tr>\n",
              "    <tr>\n",
              "      <th>1</th>\n",
              "      <td>Person</td>\n",
              "      <td>248</td>\n",
              "      <td>564</td>\n",
              "      <td>1660194000.jpg</td>\n",
              "      <td>1920</td>\n",
              "      <td>1080</td>\n",
              "    </tr>\n",
              "    <tr>\n",
              "      <th>2</th>\n",
              "      <td>Person</td>\n",
              "      <td>266</td>\n",
              "      <td>576</td>\n",
              "      <td>1660194000.jpg</td>\n",
              "      <td>1920</td>\n",
              "      <td>1080</td>\n",
              "    </tr>\n",
              "  </tbody>\n",
              "</table>\n",
              "</div>\n",
              "      <button class=\"colab-df-convert\" onclick=\"convertToInteractive('df-419ec401-199e-4f82-8635-42d351c2dfd7')\"\n",
              "              title=\"Convert this dataframe to an interactive table.\"\n",
              "              style=\"display:none;\">\n",
              "        \n",
              "  <svg xmlns=\"http://www.w3.org/2000/svg\" height=\"24px\"viewBox=\"0 0 24 24\"\n",
              "       width=\"24px\">\n",
              "    <path d=\"M0 0h24v24H0V0z\" fill=\"none\"/>\n",
              "    <path d=\"M18.56 5.44l.94 2.06.94-2.06 2.06-.94-2.06-.94-.94-2.06-.94 2.06-2.06.94zm-11 1L8.5 8.5l.94-2.06 2.06-.94-2.06-.94L8.5 2.5l-.94 2.06-2.06.94zm10 10l.94 2.06.94-2.06 2.06-.94-2.06-.94-.94-2.06-.94 2.06-2.06.94z\"/><path d=\"M17.41 7.96l-1.37-1.37c-.4-.4-.92-.59-1.43-.59-.52 0-1.04.2-1.43.59L10.3 9.45l-7.72 7.72c-.78.78-.78 2.05 0 2.83L4 21.41c.39.39.9.59 1.41.59.51 0 1.02-.2 1.41-.59l7.78-7.78 2.81-2.81c.8-.78.8-2.07 0-2.86zM5.41 20L4 18.59l7.72-7.72 1.47 1.35L5.41 20z\"/>\n",
              "  </svg>\n",
              "      </button>\n",
              "      \n",
              "  <style>\n",
              "    .colab-df-container {\n",
              "      display:flex;\n",
              "      flex-wrap:wrap;\n",
              "      gap: 12px;\n",
              "    }\n",
              "\n",
              "    .colab-df-convert {\n",
              "      background-color: #E8F0FE;\n",
              "      border: none;\n",
              "      border-radius: 50%;\n",
              "      cursor: pointer;\n",
              "      display: none;\n",
              "      fill: #1967D2;\n",
              "      height: 32px;\n",
              "      padding: 0 0 0 0;\n",
              "      width: 32px;\n",
              "    }\n",
              "\n",
              "    .colab-df-convert:hover {\n",
              "      background-color: #E2EBFA;\n",
              "      box-shadow: 0px 1px 2px rgba(60, 64, 67, 0.3), 0px 1px 3px 1px rgba(60, 64, 67, 0.15);\n",
              "      fill: #174EA6;\n",
              "    }\n",
              "\n",
              "    [theme=dark] .colab-df-convert {\n",
              "      background-color: #3B4455;\n",
              "      fill: #D2E3FC;\n",
              "    }\n",
              "\n",
              "    [theme=dark] .colab-df-convert:hover {\n",
              "      background-color: #434B5C;\n",
              "      box-shadow: 0px 1px 3px 1px rgba(0, 0, 0, 0.15);\n",
              "      filter: drop-shadow(0px 1px 2px rgba(0, 0, 0, 0.3));\n",
              "      fill: #FFFFFF;\n",
              "    }\n",
              "  </style>\n",
              "\n",
              "      <script>\n",
              "        const buttonEl =\n",
              "          document.querySelector('#df-419ec401-199e-4f82-8635-42d351c2dfd7 button.colab-df-convert');\n",
              "        buttonEl.style.display =\n",
              "          google.colab.kernel.accessAllowed ? 'block' : 'none';\n",
              "\n",
              "        async function convertToInteractive(key) {\n",
              "          const element = document.querySelector('#df-419ec401-199e-4f82-8635-42d351c2dfd7');\n",
              "          const dataTable =\n",
              "            await google.colab.kernel.invokeFunction('convertToInteractive',\n",
              "                                                     [key], {});\n",
              "          if (!dataTable) return;\n",
              "\n",
              "          const docLinkHtml = 'Like what you see? Visit the ' +\n",
              "            '<a target=\"_blank\" href=https://colab.research.google.com/notebooks/data_table.ipynb>data table notebook</a>'\n",
              "            + ' to learn more about interactive tables.';\n",
              "          element.innerHTML = '';\n",
              "          dataTable['output_type'] = 'display_data';\n",
              "          await google.colab.output.renderOutput(dataTable, element);\n",
              "          const docLink = document.createElement('div');\n",
              "          docLink.innerHTML = docLinkHtml;\n",
              "          element.appendChild(docLink);\n",
              "        }\n",
              "      </script>\n",
              "    </div>\n",
              "  </div>\n",
              "  "
            ]
          },
          "metadata": {},
          "execution_count": 17
        }
      ]
    },
    {
      "cell_type": "markdown",
      "source": [
        "How many people labelled in each file"
      ],
      "metadata": {
        "id": "IticIfR6ZY76"
      }
    },
    {
      "cell_type": "code",
      "source": [
        "labelsPerFile = labels.groupby(['Filename'])['Filename'].count()\n",
        "print(labelsPerFile)"
      ],
      "metadata": {
        "colab": {
          "base_uri": "https://localhost:8080/"
        },
        "id": "CYmsJ7y5YZs8",
        "outputId": "762063cf-24d2-4633-82c8-fecf5b5bdc7e"
      },
      "execution_count": 19,
      "outputs": [
        {
          "output_type": "stream",
          "name": "stdout",
          "text": [
            "Filename\n",
            "1660194000.jpg     4\n",
            "1660197600.jpg     4\n",
            "1660201200.jpg    12\n",
            "1660204800.jpg    15\n",
            "1660208400.jpg    16\n",
            "1660212000.jpg    35\n",
            "1660215600.jpg    65\n",
            "1660219200.jpg    31\n",
            "1660222800.jpg    18\n",
            "1660226400.jpg    45\n",
            "Name: Filename, dtype: int64\n"
          ]
        }
      ]
    },
    {
      "cell_type": "markdown",
      "source": [
        "Read in images"
      ],
      "metadata": {
        "id": "VxZemJBFXy4Q"
      }
    },
    {
      "cell_type": "code",
      "source": [
        "# get the path/directory\n",
        "folder_dir = \"images\"\n",
        "for images in os.listdir(folder_dir):\n",
        " \n",
        "    # check if the image ends with png\n",
        "    if (images.endswith(\".jpg\")):\n",
        "        print(images)"
      ],
      "metadata": {
        "colab": {
          "base_uri": "https://localhost:8080/"
        },
        "id": "HUJFd1X2Xlcs",
        "outputId": "9a03fdd9-190f-4141-cbb7-97898907de68"
      },
      "execution_count": 14,
      "outputs": [
        {
          "output_type": "stream",
          "name": "stdout",
          "text": [
            "1660197600.jpg\n",
            "1660226400.jpg\n",
            "1660201200.jpg\n",
            "1660219200.jpg\n",
            "1660194000.jpg\n",
            "1660204800.jpg\n",
            "1660208400.jpg\n",
            "1660215600.jpg\n",
            "1660222800.jpg\n",
            "1660212000.jpg\n"
          ]
        }
      ]
    },
    {
      "cell_type": "markdown",
      "source": [
        "Algorithm design and implementation to i) identify every person and ii) count the number of\n",
        "people in every photograph."
      ],
      "metadata": {
        "id": "Kzs0XkUlYGyz"
      }
    }
  ]
}