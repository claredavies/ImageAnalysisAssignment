{
  "cells": [
    {
      "cell_type": "markdown",
      "metadata": {
        "id": "view-in-github",
        "colab_type": "text"
      },
      "source": [
        "<a href=\"https://colab.research.google.com/github/claredavies/ImageAnalysisAssignment/blob/main/ImageAnalysisAssignment1BeachPeopleCount.ipynb\" target=\"_parent\"><img src=\"https://colab.research.google.com/assets/colab-badge.svg\" alt=\"Open In Colab\"/></a>"
      ]
    },
    {
      "cell_type": "markdown",
      "metadata": {
        "id": "AelAI3Q6TZb5"
      },
      "source": [
        "# Libraries"
      ]
    },
    {
      "cell_type": "code",
      "execution_count": 175,
      "metadata": {
        "colab": {
          "base_uri": "https://localhost:8080/"
        },
        "id": "weD5kruDcsrk",
        "outputId": "3f460c07-3d98-4b2f-c12d-e849ea0a627c"
      },
      "outputs": [
        {
          "output_type": "stream",
          "name": "stdout",
          "text": [
            "Looking in indexes: https://pypi.org/simple, https://us-python.pkg.dev/colab-wheels/public/simple/\n",
            "Requirement already satisfied: imutils in /usr/local/lib/python3.7/dist-packages (0.5.4)\n"
          ]
        }
      ],
      "source": [
        "!pip install imutils"
      ]
    },
    {
      "cell_type": "code",
      "execution_count": 176,
      "metadata": {
        "colab": {
          "base_uri": "https://localhost:8080/"
        },
        "id": "w3Qt0ONIc9MK",
        "outputId": "7d8cca8b-8c37-4710-eb8b-d1b6089c62ef"
      },
      "outputs": [
        {
          "output_type": "stream",
          "name": "stdout",
          "text": [
            "Looking in indexes: https://pypi.org/simple, https://us-python.pkg.dev/colab-wheels/public/simple/\n",
            "Requirement already satisfied: scikit-image in /usr/local/lib/python3.7/dist-packages (0.19.3)\n",
            "Requirement already satisfied: networkx>=2.2 in /usr/local/lib/python3.7/dist-packages (from scikit-image) (2.6.3)\n",
            "Requirement already satisfied: scipy>=1.4.1 in /usr/local/lib/python3.7/dist-packages (from scikit-image) (1.7.3)\n",
            "Requirement already satisfied: packaging>=20.0 in /usr/local/lib/python3.7/dist-packages (from scikit-image) (21.3)\n",
            "Requirement already satisfied: imageio>=2.4.1 in /usr/local/lib/python3.7/dist-packages (from scikit-image) (2.9.0)\n",
            "Requirement already satisfied: numpy>=1.17.0 in /usr/local/lib/python3.7/dist-packages (from scikit-image) (1.21.6)\n",
            "Requirement already satisfied: tifffile>=2019.7.26 in /usr/local/lib/python3.7/dist-packages (from scikit-image) (2021.11.2)\n",
            "Requirement already satisfied: pillow!=7.1.0,!=7.1.1,!=8.3.0,>=6.1.0 in /usr/local/lib/python3.7/dist-packages (from scikit-image) (7.1.2)\n",
            "Requirement already satisfied: PyWavelets>=1.1.1 in /usr/local/lib/python3.7/dist-packages (from scikit-image) (1.3.0)\n",
            "Requirement already satisfied: pyparsing!=3.0.5,>=2.0.2 in /usr/local/lib/python3.7/dist-packages (from packaging>=20.0->scikit-image) (3.0.9)\n"
          ]
        }
      ],
      "source": [
        "!pip install --upgrade scikit-image"
      ]
    },
    {
      "cell_type": "code",
      "execution_count": 177,
      "metadata": {
        "id": "lkqG9AwpRufg"
      },
      "outputs": [],
      "source": [
        "from imutils.object_detection import non_max_suppression\n",
        "import cv2\n",
        "import numpy as np\n",
        "import imutils \n",
        "import dlib\n",
        "from google.colab import files\n",
        "import io\n",
        "import pandas as pd\n",
        "import os\n",
        "from os import listdir\n",
        "import glob\n",
        "import cv2\n",
        "from matplotlib import pyplot as plt\n",
        "from google.colab.patches import cv2_imshow\n",
        "from sklearn.metrics import mean_squared_error \n",
        "from skimage.metrics import structural_similarity as compare_ssim\n",
        "import time\n",
        "import tracemalloc"
      ]
    },
    {
      "cell_type": "code",
      "execution_count": 178,
      "metadata": {
        "colab": {
          "base_uri": "https://localhost:8080/"
        },
        "id": "slfGLMAuZtKz",
        "outputId": "4b3dab2f-356f-4e70-898a-d133873944b9"
      },
      "outputs": [
        {
          "output_type": "stream",
          "name": "stdout",
          "text": [
            "display.max_colwidth : int or None\n",
            "    The maximum width in characters of a column in the repr of\n",
            "    a pandas data structure. When the column overflows, a \"...\"\n",
            "    placeholder is embedded in the output. A 'None' value means unlimited.\n",
            "    [default: 50] [currently: 400]\n"
          ]
        }
      ],
      "source": [
        "pd.set_option('max_rows', 99999)\n",
        "pd.set_option('max_colwidth', 400)\n",
        "pd.describe_option('max_colwidth')"
      ]
    },
    {
      "cell_type": "markdown",
      "metadata": {
        "id": "8YaNkhC7Tixp"
      },
      "source": [
        "# Read in files"
      ]
    },
    {
      "cell_type": "code",
      "execution_count": 325,
      "metadata": {
        "colab": {
          "base_uri": "https://localhost:8080/"
        },
        "id": "X_LfP_ZDWGg-",
        "outputId": "9cdb6599-2f9a-4491-fb68-72413395b98f"
      },
      "outputs": [
        {
          "output_type": "stream",
          "name": "stdout",
          "text": [
            "Cloning into 'ImageAnalysisAssignment'...\n",
            "remote: Enumerating objects: 156, done.\u001b[K\n",
            "remote: Counting objects: 100% (33/33), done.\u001b[K\n",
            "remote: Compressing objects: 100% (33/33), done.\u001b[K\n",
            "remote: Total 156 (delta 19), reused 0 (delta 0), pack-reused 123\u001b[K\n",
            "Receiving objects: 100% (156/156), 279.57 MiB | 16.40 MiB/s, done.\n",
            "Resolving deltas: 100% (58/58), done.\n"
          ]
        }
      ],
      "source": [
        "!git clone https://github.com/claredavies/ImageAnalysisAssignment.git"
      ]
    },
    {
      "cell_type": "code",
      "execution_count": 326,
      "metadata": {
        "id": "-WatFW_hWhU3",
        "colab": {
          "base_uri": "https://localhost:8080/"
        },
        "outputId": "64ef64db-31b9-4056-b736-cab6fa30f5d0"
      },
      "outputs": [
        {
          "output_type": "stream",
          "name": "stdout",
          "text": [
            "/content/ImageAnalysisAssignment/Assignment1Data/ImageAnalysisAssignment/Assignment1Data/ImageAnalysisAssignment/Assignment1Data/ImageAnalysisAssignment/Assignment1Data/ImageAnalysisAssignment/Assignment1Data\n"
          ]
        }
      ],
      "source": [
        "%cd ImageAnalysisAssignment/Assignment1Data"
      ]
    },
    {
      "cell_type": "markdown",
      "metadata": {
        "id": "N6a7WbmwX0iU"
      },
      "source": [
        "Read in labels"
      ]
    },
    {
      "cell_type": "code",
      "execution_count": 327,
      "metadata": {
        "id": "ZWDLh3paTmHC",
        "colab": {
          "base_uri": "https://localhost:8080/",
          "height": 0
        },
        "outputId": "b8c0029c-34f3-4264-a1af-2b21a36c4c8b"
      },
      "outputs": [
        {
          "output_type": "execute_result",
          "data": {
            "text/plain": [
              "    Label    X    Y        Filename  Width  Height\n",
              "0  Person  263  588  1660194000.jpg   1920    1080\n",
              "1  Person  293  580  1660194000.jpg   1920    1080\n",
              "2  Person  318  578  1660194000.jpg   1920    1080"
            ],
            "text/html": [
              "\n",
              "  <div id=\"df-754c5c19-466a-4eff-8807-a3fd3985c38e\">\n",
              "    <div class=\"colab-df-container\">\n",
              "      <div>\n",
              "<style scoped>\n",
              "    .dataframe tbody tr th:only-of-type {\n",
              "        vertical-align: middle;\n",
              "    }\n",
              "\n",
              "    .dataframe tbody tr th {\n",
              "        vertical-align: top;\n",
              "    }\n",
              "\n",
              "    .dataframe thead th {\n",
              "        text-align: right;\n",
              "    }\n",
              "</style>\n",
              "<table border=\"1\" class=\"dataframe\">\n",
              "  <thead>\n",
              "    <tr style=\"text-align: right;\">\n",
              "      <th></th>\n",
              "      <th>Label</th>\n",
              "      <th>X</th>\n",
              "      <th>Y</th>\n",
              "      <th>Filename</th>\n",
              "      <th>Width</th>\n",
              "      <th>Height</th>\n",
              "    </tr>\n",
              "  </thead>\n",
              "  <tbody>\n",
              "    <tr>\n",
              "      <th>0</th>\n",
              "      <td>Person</td>\n",
              "      <td>263</td>\n",
              "      <td>588</td>\n",
              "      <td>1660194000.jpg</td>\n",
              "      <td>1920</td>\n",
              "      <td>1080</td>\n",
              "    </tr>\n",
              "    <tr>\n",
              "      <th>1</th>\n",
              "      <td>Person</td>\n",
              "      <td>293</td>\n",
              "      <td>580</td>\n",
              "      <td>1660194000.jpg</td>\n",
              "      <td>1920</td>\n",
              "      <td>1080</td>\n",
              "    </tr>\n",
              "    <tr>\n",
              "      <th>2</th>\n",
              "      <td>Person</td>\n",
              "      <td>318</td>\n",
              "      <td>578</td>\n",
              "      <td>1660194000.jpg</td>\n",
              "      <td>1920</td>\n",
              "      <td>1080</td>\n",
              "    </tr>\n",
              "  </tbody>\n",
              "</table>\n",
              "</div>\n",
              "      <button class=\"colab-df-convert\" onclick=\"convertToInteractive('df-754c5c19-466a-4eff-8807-a3fd3985c38e')\"\n",
              "              title=\"Convert this dataframe to an interactive table.\"\n",
              "              style=\"display:none;\">\n",
              "        \n",
              "  <svg xmlns=\"http://www.w3.org/2000/svg\" height=\"24px\"viewBox=\"0 0 24 24\"\n",
              "       width=\"24px\">\n",
              "    <path d=\"M0 0h24v24H0V0z\" fill=\"none\"/>\n",
              "    <path d=\"M18.56 5.44l.94 2.06.94-2.06 2.06-.94-2.06-.94-.94-2.06-.94 2.06-2.06.94zm-11 1L8.5 8.5l.94-2.06 2.06-.94-2.06-.94L8.5 2.5l-.94 2.06-2.06.94zm10 10l.94 2.06.94-2.06 2.06-.94-2.06-.94-.94-2.06-.94 2.06-2.06.94z\"/><path d=\"M17.41 7.96l-1.37-1.37c-.4-.4-.92-.59-1.43-.59-.52 0-1.04.2-1.43.59L10.3 9.45l-7.72 7.72c-.78.78-.78 2.05 0 2.83L4 21.41c.39.39.9.59 1.41.59.51 0 1.02-.2 1.41-.59l7.78-7.78 2.81-2.81c.8-.78.8-2.07 0-2.86zM5.41 20L4 18.59l7.72-7.72 1.47 1.35L5.41 20z\"/>\n",
              "  </svg>\n",
              "      </button>\n",
              "      \n",
              "  <style>\n",
              "    .colab-df-container {\n",
              "      display:flex;\n",
              "      flex-wrap:wrap;\n",
              "      gap: 12px;\n",
              "    }\n",
              "\n",
              "    .colab-df-convert {\n",
              "      background-color: #E8F0FE;\n",
              "      border: none;\n",
              "      border-radius: 50%;\n",
              "      cursor: pointer;\n",
              "      display: none;\n",
              "      fill: #1967D2;\n",
              "      height: 32px;\n",
              "      padding: 0 0 0 0;\n",
              "      width: 32px;\n",
              "    }\n",
              "\n",
              "    .colab-df-convert:hover {\n",
              "      background-color: #E2EBFA;\n",
              "      box-shadow: 0px 1px 2px rgba(60, 64, 67, 0.3), 0px 1px 3px 1px rgba(60, 64, 67, 0.15);\n",
              "      fill: #174EA6;\n",
              "    }\n",
              "\n",
              "    [theme=dark] .colab-df-convert {\n",
              "      background-color: #3B4455;\n",
              "      fill: #D2E3FC;\n",
              "    }\n",
              "\n",
              "    [theme=dark] .colab-df-convert:hover {\n",
              "      background-color: #434B5C;\n",
              "      box-shadow: 0px 1px 3px 1px rgba(0, 0, 0, 0.15);\n",
              "      filter: drop-shadow(0px 1px 2px rgba(0, 0, 0, 0.3));\n",
              "      fill: #FFFFFF;\n",
              "    }\n",
              "  </style>\n",
              "\n",
              "      <script>\n",
              "        const buttonEl =\n",
              "          document.querySelector('#df-754c5c19-466a-4eff-8807-a3fd3985c38e button.colab-df-convert');\n",
              "        buttonEl.style.display =\n",
              "          google.colab.kernel.accessAllowed ? 'block' : 'none';\n",
              "\n",
              "        async function convertToInteractive(key) {\n",
              "          const element = document.querySelector('#df-754c5c19-466a-4eff-8807-a3fd3985c38e');\n",
              "          const dataTable =\n",
              "            await google.colab.kernel.invokeFunction('convertToInteractive',\n",
              "                                                     [key], {});\n",
              "          if (!dataTable) return;\n",
              "\n",
              "          const docLinkHtml = 'Like what you see? Visit the ' +\n",
              "            '<a target=\"_blank\" href=https://colab.research.google.com/notebooks/data_table.ipynb>data table notebook</a>'\n",
              "            + ' to learn more about interactive tables.';\n",
              "          element.innerHTML = '';\n",
              "          dataTable['output_type'] = 'display_data';\n",
              "          await google.colab.output.renderOutput(dataTable, element);\n",
              "          const docLink = document.createElement('div');\n",
              "          docLink.innerHTML = docLinkHtml;\n",
              "          element.appendChild(docLink);\n",
              "        }\n",
              "      </script>\n",
              "    </div>\n",
              "  </div>\n",
              "  "
            ]
          },
          "metadata": {},
          "execution_count": 327
        }
      ],
      "source": [
        "labels = pd.read_csv('Labels/people-labels.csv')\n",
        "labels.head(3)"
      ]
    },
    {
      "cell_type": "markdown",
      "metadata": {
        "id": "VxZemJBFXy4Q"
      },
      "source": [
        "Read in images"
      ]
    },
    {
      "cell_type": "code",
      "execution_count": 328,
      "metadata": {
        "id": "HUJFd1X2Xlcs",
        "colab": {
          "base_uri": "https://localhost:8080/"
        },
        "outputId": "f61af5b8-f906-49a1-bf05-d9f2dc936a60"
      },
      "outputs": [
        {
          "output_type": "stream",
          "name": "stdout",
          "text": [
            "1660204800.jpg\n",
            "1660226400.jpg\n",
            "1660197600.jpg\n",
            "1660194000.jpg\n",
            "1660215600.jpg\n",
            "1660222800.jpg\n",
            "1660208400.jpg\n",
            "1660212000.jpg\n",
            "1660201200.jpg\n",
            "1660219200.jpg\n"
          ]
        }
      ],
      "source": [
        "# get the path/directory\n",
        "folder_dir = \"images\"\n",
        "for images in os.listdir(folder_dir):\n",
        " \n",
        "    # check if the image ends with png\n",
        "    if (images.endswith(\".jpg\")):\n",
        "        print(images)"
      ]
    },
    {
      "cell_type": "markdown",
      "metadata": {
        "id": "Kzs0XkUlYGyz"
      },
      "source": [
        "Algorithm design and implementation to i) identify every person and ii) count the number of\n",
        "people in every photograph."
      ]
    },
    {
      "cell_type": "markdown",
      "metadata": {
        "id": "nhRLhfCie7Sa"
      },
      "source": [
        "# Pre-processing functions"
      ]
    },
    {
      "cell_type": "code",
      "execution_count": 184,
      "metadata": {
        "id": "RzQCx7lKfVMj"
      },
      "outputs": [],
      "source": [
        "def find_difference_images(currentImage, previousImage):\n",
        "  result = np.zeros(currentImage.shape[0:2])\n",
        "\n",
        "  if currentImage.ndim == 3:\n",
        "    currentImage = cv2.cvtColor(currentImage, cv2.COLOR_BGR2GRAY)\n",
        "\n",
        "  if previousImage.ndim == 3:\n",
        "    previousImage = cv2.cvtColor(previousImage, cv2.COLOR_BGR2GRAY)\n",
        "\n",
        "  h = currentImage.shape[0]\n",
        "  w = previousImage.shape[1]\n",
        "\n",
        "  # is 255 (white) or 0 (black)\n",
        "  # loop over the image, pixel by pixel\n",
        "  for y in range(0, h):\n",
        "      for x in range(0, w):\n",
        "          # threshold the pixel\n",
        "          if(currentImage[y][x] == 0 and previousImage[y][x] == 255):\n",
        "            result[y, x] = 255\n",
        "  result = cv2.convertScaleAbs(result)\n",
        "  return result"
      ]
    },
    {
      "cell_type": "code",
      "execution_count": 333,
      "metadata": {
        "id": "fO24Bp3F5kAX"
      },
      "outputs": [],
      "source": [
        "def preprocess(frame):\n",
        "  # convert to gray\n",
        "  gray = cv2.cvtColor(frame,cv2.COLOR_BGR2GRAY)\n",
        "  # blur\n",
        "  smooth = cv2.GaussianBlur(gray, (95,95), 0)\n",
        "\n",
        "  # divide gray by morphology image\n",
        "  division = cv2.divide(gray, smooth, scale=192)\n",
        "  return division"
      ]
    },
    {
      "cell_type": "markdown",
      "metadata": {
        "id": "Z0eg8aomZp1p"
      },
      "source": [
        "# Background Substraction"
      ]
    },
    {
      "cell_type": "code",
      "execution_count": 343,
      "metadata": {
        "id": "2yMYDpiPynsd"
      },
      "outputs": [],
      "source": [
        "def motionDetection(image_path_folder, labels, applyFilter, showImages):  \n",
        "  list_image_name = []\n",
        "  list_positions_head_found_x = []\n",
        "  list_positions_head_found_y = []\n",
        "\n",
        "  image_paths = glob.glob(image_path_folder)\n",
        "  previous = cv2.imread(\"images/1660194000.jpg\") \n",
        "  previous = preprocess(previous)\n",
        "\n",
        "  for image_path in image_paths:\n",
        "    image_name = image_path.split(os.path.sep)[-1]\n",
        "    image = cv2.imread(image_path) \n",
        "    frame = image\n",
        "\n",
        "\n",
        "    if applyFilter:\n",
        "      frame = preprocess(frame)\n",
        "\n",
        "    else:\n",
        "      frame = cv2.cvtColor(frame,cv2.COLOR_BGR2GRAY)\n",
        "\n",
        "    # cv2_imshow(frame)\n",
        "\n",
        "    (thresh, bw) = cv2.threshold(frame, 128, 255, cv2.THRESH_BINARY | cv2.THRESH_OTSU)\n",
        "    frame =  bw\n",
        "\n",
        "    # cv2_imshow(frame)\n",
        "    # print(\"previous\")\n",
        "    # cv2_imshow(previous)\n",
        "    # print(\"current\")\n",
        "    # cv2_imshow(frame)\n",
        "\n",
        "    diff = find_difference_images(frame, previous)\n",
        "    # print(\"difference\")\n",
        "    # cv2_imshow(diff)\n",
        "\n",
        "    contours, hierarchy = cv2.findContours(diff, cv2.RETR_EXTERNAL, cv2.CHAIN_APPROX_SIMPLE)\n",
        "    # draw the contours, not strictly necessary\n",
        "    # for i, cnt in enumerate(contours):\n",
        "    #     cv2.drawContours(frame, contours, i, (0, 0, 255), 3)\n",
        "    for contour in contours:\n",
        "        # continue through the loop if contour area is less than 500...\n",
        "        # ... helps in removing noise detection\n",
        "        if cv2.contourArea(contour) < 500:\n",
        "            continue\n",
        "        # get the xmin, ymin, width, and height coordinates from the contours\n",
        "        (x, y, w, h) = cv2.boundingRect(contour)\n",
        "        center = (x+w//2, y+h//2)\n",
        "        # draw the bounding boxes\n",
        "        cv2.rectangle(image, (x, y), (x+w, y+h), (0, 255, 0), 2)\n",
        "        if findIfMatchingLabelForPerson(labels, center, image_name) == True:\n",
        "          cv2.circle(image, center, 3, (255, 0, 0 ), 4)\n",
        "    \n",
        "        list_image_name.append(image_name)\n",
        "        list_positions_head_found_x.append(center[0])\n",
        "        list_positions_head_found_y.append(center[1])\n",
        "\n",
        "    if showImages:\n",
        "      cv2_imshow(image)\n",
        "\n",
        "    previous = frame\n",
        "\n",
        "  df_image_head_pos= pd.DataFrame(\n",
        "      {\"Filename\": list_image_name, \"X\": list_positions_head_found_x, \"Y\": list_positions_head_found_y}\n",
        "  )\n",
        "  df_image_head_pos.drop_duplicates()\n",
        "\n",
        "  return df_image_head_pos"
      ]
    },
    {
      "cell_type": "markdown",
      "metadata": {
        "id": "redfN12ljk43"
      },
      "source": [
        "# Haar Cascade"
      ]
    },
    {
      "cell_type": "code",
      "execution_count": 331,
      "metadata": {
        "id": "uokC1Pj6lRxz"
      },
      "outputs": [],
      "source": [
        "def detectHaarcascadeImage(img, haarcascade, image_name, applyFilter, showImages):\n",
        "  list_points_found_per_image = []\n",
        "\n",
        "  if applyFilter:\n",
        "    if(len(img.shape) ==3):\n",
        "      img = cv2.cvtColor(img, cv2.COLOR_BGR2GRAY)\n",
        "    img = cv2.equalizeHist(img)\n",
        "\n",
        "  haarcascade_found = haarcascade.detectMultiScale(img, scaleFactor=1.05,minNeighbors=5)\n",
        "  for (x,y,w,h) in haarcascade_found:\n",
        "    center = (x+w//2, y+h//2)\n",
        "    if findIfMatchingLabelForPerson(labels, center, image_name) == True:\n",
        "      cv2.circle(img, center, 3, (255, 0, 0 ), 4)\n",
        "    cv2.rectangle(img, (x, y), (x+w, y+h), (0, 255, 0), 2)\n",
        "    list_points_found_per_image.append(center)\n",
        "      # haarcascade_outer_foundROI = img_gray[y:y+h,x:x+w]\n",
        "  if showImages:\n",
        "    cv2_imshow(img)\n",
        "  return list_points_found_per_image"
      ]
    },
    {
      "cell_type": "code",
      "source": [
        "def HaarcascadeImageFolder(image_path_folder, applyFilter, showImages):\n",
        "  list_image_name = []\n",
        "  list_positions_head_found_x = []\n",
        "  list_positions_head_found_y = []\n",
        "  image_paths = glob.glob(image_path_folder)\n",
        "\n",
        "  full_body_cascade = cv2.CascadeClassifier(os.path.join(cv2.data.haarcascades + \"haarcascade_fullbody.xml\"))\n",
        "  for image_path in image_paths:\n",
        "    image_name = image_path.split(os.path.sep)[-1]\n",
        "    image = cv2.imread(image_path)\n",
        "    list_points_found_per_image = detectHaarcascadeImage(image, full_body_cascade, image_name, applyFilter, showImages)  \n",
        "\n",
        "    for x in list_points_found_per_image:\n",
        "      list_image_name.append(image_name)\n",
        "      list_positions_head_found_x.append(x[0])\n",
        "      list_positions_head_found_y.append(x[1])\n",
        "\n",
        "  df_image_head_pos= pd.DataFrame(\n",
        "      {\"Filename\": list_image_name, \"X\": list_positions_head_found_x, \"Y\": list_positions_head_found_y}\n",
        "  )\n",
        "  df_image_head_pos.drop_duplicates()\n",
        "  return df_image_head_pos"
      ],
      "metadata": {
        "id": "ViIQ_LMQS9mK"
      },
      "execution_count": 190,
      "outputs": []
    },
    {
      "cell_type": "markdown",
      "metadata": {
        "id": "2Sl01A-3gqjq"
      },
      "source": [
        "# HOG"
      ]
    },
    {
      "cell_type": "code",
      "execution_count": 286,
      "metadata": {
        "id": "KcBPng45pBJI"
      },
      "outputs": [],
      "source": [
        "def HOGImage(image, image_name, applyFilter, showImages):\n",
        "  scaleFactor = 2\n",
        "  minNeighbors = 1\n",
        "\n",
        "  list_points_found_per_image = []\n",
        "\n",
        "  hog = cv2.HOGDescriptor()\n",
        "  hog.setSVMDetector(cv2.HOGDescriptor_getDefaultPeopleDetector())\n",
        "\n",
        "  if image.shape[1] < 400: # if image width < 400\n",
        "      (height, width) = image.shape[:2]\n",
        "      ratio = width / float(width) # find the width to height ratio\n",
        "      image = cv2.resize(image, (400, width*ratio)) # resize the image according to the width to height ratio\n",
        "\n",
        "  if applyFilter:\n",
        "  # keep a minimum image size for accurate predictions\n",
        "    image = cv2.cvtColor(image, cv2.COLOR_BGR2GRAY)\n",
        "\n",
        "  rects, weights = hog.detectMultiScale(image, winStride=(2, 2), padding=(10, 10), scale=0.5)\n",
        "  for i, (x, y, w, h) in enumerate(rects):\n",
        "    center = (x+w//2, y+h//2)\n",
        "    if weights[i] < 0.13:\n",
        "      continue\n",
        "    elif weights[i] < 0.3 and weights[i] > 0.13:\n",
        "      cv2.rectangle(image, (x, y), (x+w, y+h), (0, 0, 255), 2)\n",
        "      if findIfMatchingLabelForPerson(labels, center, image_name) == True:\n",
        "          cv2.circle(image, center, 3, (255, 0, 0 ), 4)\n",
        "      list_points_found_per_image.append(center)\n",
        "    if weights[i] < 0.7 and weights[i] > 0.3:\n",
        "      cv2.rectangle(image, (x, y), (x+w, y+h), (50, 122, 255), 2)\n",
        "      if findIfMatchingLabelForPerson(labels, center, image_name) == True:\n",
        "          cv2.circle(image, center, 3, (255, 0, 0 ), 4)\n",
        "      list_points_found_per_image.append(center)\n",
        "    if weights[i] > 0.7:\n",
        "      cv2.rectangle(image, (x, y), (x+w, y+h), (0, 255, 0), 2)\n",
        "      if findIfMatchingLabelForPerson(labels, center, image_name) == True:\n",
        "          cv2.circle(image, center, 3, (255, 0, 0 ), 4)\n",
        "      list_points_found_per_image.append(center)\n",
        "\n",
        "  if showImages:\n",
        "    cv2_imshow(image)\n",
        "\n",
        "  return list_points_found_per_image"
      ]
    },
    {
      "cell_type": "code",
      "execution_count": 192,
      "metadata": {
        "id": "xKg6W6jNX4GI"
      },
      "outputs": [],
      "source": [
        "def HOGImageFolder(image_path_folder, applyFilter, showImages):\n",
        "  list_image_name = []\n",
        "  list_positions_head_found_x = []\n",
        "  list_positions_head_found_y = []\n",
        "  image_paths = glob.glob(image_path_folder)\n",
        "  for image_path in image_paths:\n",
        "    image_name = image_path.split(os.path.sep)[-1]\n",
        "    image = cv2.imread(image_path)\n",
        "    list_points_found_per_image = HOGImage(image, image_name, applyFilter, showImages)  \n",
        "\n",
        "    for x in list_points_found_per_image:\n",
        "      list_image_name.append(image_name)\n",
        "      list_positions_head_found_x.append(x[0])\n",
        "      list_positions_head_found_y.append(x[1])\n",
        "\n",
        "    \n",
        "\n",
        "  df_image_head_pos= pd.DataFrame(\n",
        "      {\"Filename\": list_image_name, \"X\": list_positions_head_found_x, \"Y\": list_positions_head_found_y}\n",
        "  )\n",
        "  df_image_head_pos.drop_duplicates()\n",
        "  return df_image_head_pos"
      ]
    },
    {
      "cell_type": "markdown",
      "metadata": {
        "id": "Grbuubi8BvH8"
      },
      "source": [
        "# Mean Squared Error Functions"
      ]
    },
    {
      "cell_type": "code",
      "execution_count": 245,
      "metadata": {
        "id": "8O7IipaXT0z3"
      },
      "outputs": [],
      "source": [
        "def removeFalsePositives(labels, dfPeopleFound):\n",
        "  labels['FoundX'] = 0\n",
        "  labels['FoundY'] = 0\n",
        "\n",
        "  threshold_cutoff = 30\n",
        "  for indexOuter, rowOuter in labels.iterrows():\n",
        "    for indexInner, rowInner in dfPeopleFound.iterrows():\n",
        "      if rowOuter['Filename'] ==  rowInner['Filename']:\n",
        "        if abs(rowOuter['X']- rowInner['X']) < threshold_cutoff:\n",
        "          if abs(rowOuter['Y']- rowInner['Y']) < threshold_cutoff:\n",
        "            # print(\"Found:  x:\" + str(rowInner['X']) + \"  y:\" + str(rowInner['Y']))\n",
        "            # print(\"Actual:  x:\" + str(rowOuter['X']) + \"  y:\" + str(rowOuter['Y']))\n",
        "            labels.at[indexOuter,'FoundX'] = rowInner['X']\n",
        "            labels.at[indexOuter,'FoundY'] = rowInner['Y']\n",
        "  \n",
        "  return labels"
      ]
    },
    {
      "cell_type": "code",
      "source": [
        "def findMeanSquaredError(labels, dfPeopleFound):\n",
        "  labels = removeFalsePositives(labels, dfPeopleFound)\n",
        "\n",
        "  subset = labels[(labels[\"FoundX\"] != 0) | (labels[\"FoundY\"] != 0)]\n",
        "\n",
        "  mseX = None\n",
        "  mseY = None\n",
        "\n",
        "  if subset.empty:\n",
        "    print('Not matches after matching to original labels')\n",
        "\n",
        "  else:  \n",
        "    mseY = mean_squared_error(subset.Y, subset.FoundY)\n",
        "    mseX = mean_squared_error(subset.X, subset.FoundX)\n",
        "\n",
        "  return [mseX, mseY]"
      ],
      "metadata": {
        "id": "aL2Jcr_mZnQV"
      },
      "execution_count": 246,
      "outputs": []
    },
    {
      "cell_type": "markdown",
      "metadata": {
        "id": "goCU7xo5lI2E"
      },
      "source": [
        "# Evaluation - Person-level Function"
      ]
    },
    {
      "cell_type": "code",
      "source": [
        "def generateDfFoundBasedOnIfMatchingLabel(labels, dfFound):\n",
        "  dfR = dfFound.copy()\n",
        "  dfR[\"MatchFound\"] = None\n",
        "\n",
        "  for row in dfR.itertuples():\n",
        "\n",
        "    if(findIfMatchingLabelForPerson(labels, (row.X,row.Y), row.Filename) == True):\n",
        "      dfR.loc[row.Index,\"MatchFound\"] = \"True\"\n",
        "\n",
        "    elif(findIfMatchingLabelForPerson(labels, (row.X,row.Y), row.Filename) == False):\n",
        "      dfR.loc[row.Index, \"MatchFound\"] = \"False\"\n",
        "\n",
        "  # labelsPerFile = labels.groupby(['Filename'])['Filename'].count()\n",
        "  # totalNumPeople = len(labels)  \n",
        "  # print(\"total number of person labels: \" + str(totalNumPeople))\n",
        "\n",
        "  # list_image_name = []\n",
        "  # list_actual_number_heads = []\n",
        "  # for image_name, total_people_per_image in labelsPerFile.items():\n",
        "  #   list_image_name.append(image_name)\n",
        "  #   list_actual_number_heads.append(total_people_per_image)\n",
        "\n",
        "  # df_persons_found_versus_actual = pd.DataFrame( {\"Filename\": list_image_name, \"Actual\": list_actual_number_heads})\n",
        "  # df_persons_found_versus_actual[\"Found\"] = 0\n",
        "\n",
        "  # peopleFoundPerFile = dfFound.groupby(['Filename'])['Filename'].count()\n",
        "  # for image_name, total_people_per_image in peopleFoundPerFile.items():\n",
        "  #   df_persons_found_versus_actual.loc[df_persons_found_versus_actual[\"Filename\"] == image_name, \"Found\"] = total_people_per_image\n",
        "\n",
        "  # print(df_persons_found_versus_actual)\n",
        "\n",
        "  return dfR"
      ],
      "metadata": {
        "id": "7-Jox-6fpiZp"
      },
      "execution_count": 195,
      "outputs": []
    },
    {
      "cell_type": "code",
      "source": [
        "def plotPersonFound(df):\n",
        "  df.plot(x='Filename', y=['Actual','Found'], kind='bar') \n",
        "  plt.show()"
      ],
      "metadata": {
        "id": "eZSxZ1iGBj0L"
      },
      "execution_count": 196,
      "outputs": []
    },
    {
      "cell_type": "markdown",
      "source": [
        "Method checking if found point "
      ],
      "metadata": {
        "id": "qY_JmLyNfTky"
      }
    },
    {
      "cell_type": "code",
      "source": [
        "def findIfMatchingLabelForPerson(labels, position, imageName):\n",
        "  for index, row in labels.iterrows():\n",
        "    threshold = 30\n",
        "    if row['Filename'] == imageName:\n",
        "      if abs(row['X'] - position[0]) < threshold and abs(row['Y'] - position[1]) < threshold:\n",
        "        return True\n",
        "  return False"
      ],
      "metadata": {
        "id": "J-RF6yiBezNJ"
      },
      "execution_count": 197,
      "outputs": []
    },
    {
      "cell_type": "markdown",
      "source": [
        "# Timing Evaluation"
      ],
      "metadata": {
        "id": "C2VbRjpW9CiC"
      }
    },
    {
      "cell_type": "code",
      "source": [
        "def tracing_start():\n",
        "    tracemalloc.stop()\n",
        "    print(\"nTracing Status : \", tracemalloc.is_tracing())\n",
        "    tracemalloc.start()\n",
        "    print(\"Tracing Status : \", tracemalloc.is_tracing())"
      ],
      "metadata": {
        "id": "VHkDbl0K9Dse"
      },
      "execution_count": 198,
      "outputs": []
    },
    {
      "cell_type": "code",
      "source": [
        "def createHTMLOfDf(df, name):\n",
        "  html = df.to_html()\n",
        "  \n",
        "  # write html to file\n",
        "  text_file = open(name, \"w\")\n",
        "  text_file.write(html)\n",
        "  text_file.close()"
      ],
      "metadata": {
        "id": "eoAa2rX9Iaha"
      },
      "execution_count": 199,
      "outputs": []
    },
    {
      "cell_type": "markdown",
      "source": [
        "# Execution"
      ],
      "metadata": {
        "id": "UbaKwQeMXqoo"
      }
    },
    {
      "cell_type": "code",
      "source": [
        "image_path = 'images/*.jpg'"
      ],
      "metadata": {
        "id": "4stxFN3cXzoS"
      },
      "execution_count": 232,
      "outputs": []
    },
    {
      "cell_type": "markdown",
      "source": [
        "HOG - no filter"
      ],
      "metadata": {
        "id": "l46twdEKX1PN"
      }
    },
    {
      "cell_type": "code",
      "source": [
        "tracing_start()\n",
        "start = time.time()\n",
        "dfHogFound = HOGImageFolder(image_path, False, False)\n",
        "end = time.time()\n",
        "HogTime = (end-start)*1000\n",
        "print(\"time elapsed HOG {} milli seconds\".format(HogTime))\n",
        "meanSquaredErrorHog = findMeanSquaredError(labels.copy(), dfHogFound)\n",
        "print(\"mean sqaured error x: \" + str(meanSquaredErrorHog[0]))\n",
        "print(\"mean sqaured error y: \" + str(meanSquaredErrorHog[1]))\n",
        "dfPersonLevelResultsHog = generateDfFoundBasedOnIfMatchingLabel(labels.copy(), dfHogFound)"
      ],
      "metadata": {
        "colab": {
          "base_uri": "https://localhost:8080/"
        },
        "id": "nPhKFCgGXu_i",
        "outputId": "53bcecb9-39de-48d3-ae72-7262a42b51f4"
      },
      "execution_count": 287,
      "outputs": [
        {
          "output_type": "stream",
          "name": "stdout",
          "text": [
            "nTracing Status :  False\n",
            "Tracing Status :  True\n",
            "time elapsed HOG 25480.143785476685 milli seconds\n",
            "mean sqaured error x: 22.38888888888889\n",
            "mean sqaured error y: 115.38888888888889\n"
          ]
        }
      ]
    },
    {
      "cell_type": "markdown",
      "source": [
        "Hog - filter"
      ],
      "metadata": {
        "id": "lw7frisQ3-Z8"
      }
    },
    {
      "cell_type": "code",
      "source": [
        "tracing_start()\n",
        "start = time.time()\n",
        "dfHogFoundFilter = HOGImageFolder(image_path, True, False)\n",
        "end = time.time()\n",
        "HogTimeFilter = (end-start)*1000\n",
        "print(\"time elapsed HOG Filter {} milli seconds\".format(HogTimeFilter))\n",
        "meanSquaredErrorHogFilter = findMeanSquaredError(labels.copy(), dfHogFoundFilter)\n",
        "print(\"mean sqaured error x: \" + str(meanSquaredErrorHogFilter[0]))\n",
        "print(\"mean sqaured error y: \" + str(meanSquaredErrorHogFilter[1]))\n",
        "dfPersonLevelResultsHogFilter = generateDfFoundBasedOnIfMatchingLabel(labels.copy(), dfHogFoundFilter)"
      ],
      "metadata": {
        "colab": {
          "base_uri": "https://localhost:8080/"
        },
        "id": "dISvXSKD38DM",
        "outputId": "5cfb4c8c-967d-4d7f-af87-5a75a2c84209"
      },
      "execution_count": 288,
      "outputs": [
        {
          "output_type": "stream",
          "name": "stdout",
          "text": [
            "nTracing Status :  False\n",
            "Tracing Status :  True\n",
            "time elapsed HOG Filter 24194.0336227417 milli seconds\n",
            "mean sqaured error x: 21.863636363636363\n",
            "mean sqaured error y: 156.36363636363637\n"
          ]
        }
      ]
    },
    {
      "cell_type": "markdown",
      "source": [
        "Haar - no filter"
      ],
      "metadata": {
        "id": "27hChPsBYFGn"
      }
    },
    {
      "cell_type": "code",
      "source": [
        "tracing_start()\n",
        "start = time.time()\n",
        "dfHaarFound = HaarcascadeImageFolder(image_path, False, False)\n",
        "end = time.time()\n",
        "Haartime = (end-start)*1000\n",
        "print(\"time elapsed Haar {} milli seconds\".format(Haartime))\n",
        "meanSquaredErrorHaar = findMeanSquaredError(labels.copy(), dfHaarFound)\n",
        "print(\"mean sqaured error x: \" + str(meanSquaredErrorHaar[0]))\n",
        "print(\"mean sqaured error y: \" + str(meanSquaredErrorHaar[1]))\n",
        "dfPersonLevelResultsHaar = generateDfFoundBasedOnIfMatchingLabel(labels.copy(), dfHaarFound)"
      ],
      "metadata": {
        "colab": {
          "base_uri": "https://localhost:8080/"
        },
        "id": "aDGkF8viXx0q",
        "outputId": "66a5cc73-0c33-4659-896f-2ba97a537627"
      },
      "execution_count": 329,
      "outputs": [
        {
          "output_type": "stream",
          "name": "stdout",
          "text": [
            "nTracing Status :  False\n",
            "Tracing Status :  True\n",
            "time elapsed Haar 19952.63361930847 milli seconds\n",
            "mean sqaured error x: 222.1818181818182\n",
            "mean sqaured error y: 108.81818181818181\n"
          ]
        }
      ]
    },
    {
      "cell_type": "markdown",
      "source": [
        "Haar - filter"
      ],
      "metadata": {
        "id": "hAL1pSSn86gd"
      }
    },
    {
      "cell_type": "code",
      "source": [
        "tracing_start()\n",
        "start = time.time()\n",
        "dfHaarFoundFilter = HaarcascadeImageFolder(image_path, True, False)\n",
        "end = time.time()\n",
        "HaarFilterTime = (end-start)*1000\n",
        "print(\"time elapsed Haar {} milli seconds\".format(HaarFilterTime))\n",
        "meanSquaredErrorHaarFilter = findMeanSquaredError(labels.copy(), dfHaarFoundFilter)\n",
        "print(\"mean sqaured error x: \" + str(meanSquaredErrorHaarFilter[0]))\n",
        "print(\"mean sqaured error y: \" + str(meanSquaredErrorHaarFilter[1]))\n",
        "dfPersonLevelResultsHaarFilter = generateDfFoundBasedOnIfMatchingLabel(labels.copy(), dfHaarFoundFilter)"
      ],
      "metadata": {
        "colab": {
          "base_uri": "https://localhost:8080/"
        },
        "id": "pA25Yw2A86Mf",
        "outputId": "5bdf27dc-72e5-4291-a33a-7591a22918e3"
      },
      "execution_count": 332,
      "outputs": [
        {
          "output_type": "stream",
          "name": "stdout",
          "text": [
            "nTracing Status :  False\n",
            "Tracing Status :  True\n",
            "time elapsed Haar 23886.186838150024 milli seconds\n",
            "mean sqaured error x: 133.07692307692307\n",
            "mean sqaured error y: 60.15384615384615\n"
          ]
        }
      ]
    },
    {
      "cell_type": "markdown",
      "source": [
        "Motion Detection"
      ],
      "metadata": {
        "id": "aTa97dlIYGue"
      }
    },
    {
      "cell_type": "code",
      "source": [
        "tracing_start()\n",
        "start = time.time()\n",
        "dfMotionFound = motionDetection(image_path, labels.copy(), False, False)\n",
        "end = time.time()\n",
        "MotionTime = (end-start)*1000\n",
        "print(\"time elapsed Motion {} milli seconds\".format(MotionTime))\n",
        "meanSquaredErrorMotion = findMeanSquaredError(labels.copy(), dfMotionFound)\n",
        "print(\"mean sqaured error x: \" + str(meanSquaredErrorMotion[0]))\n",
        "print(\"mean sqaured error y: \" + str(meanSquaredErrorMotion[1]))\n",
        "dfPersonLevelResultsMotion = generateDfFoundBasedOnIfMatchingLabel(labels.copy(), dfMotionFound)"
      ],
      "metadata": {
        "colab": {
          "base_uri": "https://localhost:8080/"
        },
        "id": "OlPnsz1qYJCa",
        "outputId": "f6b35d38-bb6c-4cd7-dd2d-8683d1703bbe"
      },
      "execution_count": 233,
      "outputs": [
        {
          "output_type": "stream",
          "name": "stdout",
          "text": [
            "nTracing Status :  False\n",
            "Tracing Status :  True\n",
            "3\n",
            "time elapsed Motion 117759.15479660034 milli seconds\n",
            "here 4\n",
            "mean sqaured error x: 162.0625\n",
            "mean sqaured error y: 163.4375\n"
          ]
        }
      ]
    },
    {
      "cell_type": "markdown",
      "source": [
        "Motion Detection - filter"
      ],
      "metadata": {
        "id": "CWF68OdJ_Lrl"
      }
    },
    {
      "cell_type": "code",
      "source": [
        "tracing_start()\n",
        "start = time.time()\n",
        "dfMotionFoundFilter = motionDetection(image_path, labels.copy(), True, False)\n",
        "end = time.time()\n",
        "MotionTimeFilter = (end-start)*1000\n",
        "print(\"time elapsed Motion {} milli seconds\".format(MotionTimeFilter))\n",
        "meanSquaredErrorMotionFilter = findMeanSquaredError(labels.copy(), dfMotionFoundFilter)\n",
        "print(\"mean sqaured error x: \" + str(meanSquaredErrorMotionFilter[0]))\n",
        "print(\"mean sqaured error y: \" + str(meanSquaredErrorMotionFilter[1]))\n",
        "dfPersonLevelResultsMotionFilter = generateDfFoundBasedOnIfMatchingLabel(labels.copy(), dfMotionFoundFilter)"
      ],
      "metadata": {
        "colab": {
          "base_uri": "https://localhost:8080/"
        },
        "id": "1kdgl47K_OQe",
        "outputId": "c8c27294-e213-46b9-ce64-4167ad263c5d"
      },
      "execution_count": 345,
      "outputs": [
        {
          "output_type": "stream",
          "name": "stdout",
          "text": [
            "nTracing Status :  False\n",
            "Tracing Status :  True\n",
            "time elapsed Motion 93637.45617866516 milli seconds\n",
            "mean sqaured error x: 115.91666666666667\n",
            "mean sqaured error y: 133.625\n"
          ]
        }
      ]
    },
    {
      "cell_type": "markdown",
      "source": [
        "# Evaluation Overall"
      ],
      "metadata": {
        "id": "z_Gvi8JptiCQ"
      }
    },
    {
      "cell_type": "code",
      "source": [
        "def formEvaluationDf(labels, dfEval, alogorithmName,meanSquaredErrorXY, dfResultsPersonFound, timeTakenMs):\n",
        "  noLabel = len(labels.index)\n",
        "  noResultsFound = len(dfResultsPersonFound.index)\n",
        "\n",
        "  if noResultsFound > 0:\n",
        "    matchPerFile = dfResultsPersonFound.groupby(['MatchFound'])['MatchFound'].count()\n",
        "    foundNegativeMatch = matchPerFile[0]\n",
        "    foundPositiveMatch = matchPerFile[1]\n",
        "    percentageFoundMatchLabel = (foundPositiveMatch/noLabel)*100\n",
        "    percentageFalsePositive = (foundNegativeMatch/(foundPositiveMatch + foundNegativeMatch))*100\n",
        "    dfEvaluation = dfEval.append({'AlgorithmName': alogorithmName,'FoundMatchLabelPercentage': percentageFoundMatchLabel, 'FoundFalsePositivePercentage': percentageFalsePositive, 'MeanSquaredX': meanSquaredErrorXY[0], 'MeanSquaredY': meanSquaredErrorXY[1], 'TimeTakenMs': timeTakenMs}, ignore_index=True)\n",
        "  \n",
        "  else:\n",
        "    dfEvaluation = dfEval.append({'AlgorithmName': alogorithmName,'FoundMatchLabelPercentage': None, 'FoundFalsePositivePercentage': None, 'MeanSquaredX': None, 'MeanSquaredY': None, 'TimeTakenMs': timeTakenMs}, ignore_index=True)\n",
        "  \n",
        "  return dfEvaluation"
      ],
      "metadata": {
        "id": "sUWDwzQnu7yu"
      },
      "execution_count": 235,
      "outputs": []
    },
    {
      "cell_type": "code",
      "source": [
        "dfEvaluation = pd.DataFrame(columns=['AlgorithmName', 'FoundMatchLabelPercentage', 'FoundFalsePositivePercentage', 'MeanSquaredX','MeanSquaredY','TimeTakenMs'])\n",
        "dfEvaluation = formEvaluationDf(labels.copy(), dfEvaluation, 'Hog', meanSquaredErrorHog, dfPersonLevelResultsHog, HogTime)\n",
        "dfEvaluation = formEvaluationDf(labels.copy(), dfEvaluation, 'HogFilter', meanSquaredErrorHogFilter, dfPersonLevelResultsHogFilter, HogTimeFilter)\n",
        "dfEvaluation = formEvaluationDf(labels.copy(), dfEvaluation, 'Haar', meanSquaredErrorHaar, dfPersonLevelResultsHaar, Haartime)\n",
        "dfEvaluation = formEvaluationDf(labels.copy(), dfEvaluation, 'HaarFilter', meanSquaredErrorHaarFilter, dfPersonLevelResultsHaarFilter, HaarFilterTime)\n",
        "dfEvaluation = formEvaluationDf(labels.copy(), dfEvaluation, 'Motion', meanSquaredErrorMotion, dfPersonLevelResultsMotion, MotionTime)\n",
        "dfEvaluation = formEvaluationDf(labels.copy(), dfEvaluation, 'MotionFilter', meanSquaredErrorMotionFilter, dfPersonLevelResultsMotionFilter, MotionTimeFilter)"
      ],
      "metadata": {
        "id": "mcmeo7OK4AD4"
      },
      "execution_count": 346,
      "outputs": []
    },
    {
      "cell_type": "code",
      "source": [
        "createHTMLOfDf(dfEvaluation, \"dfEval.html\")"
      ],
      "metadata": {
        "id": "VSFaYrCU7psG"
      },
      "execution_count": 351,
      "outputs": []
    },
    {
      "cell_type": "code",
      "source": [
        "!pwd"
      ],
      "metadata": {
        "colab": {
          "base_uri": "https://localhost:8080/"
        },
        "id": "D7f5Lrlu_rrW",
        "outputId": "6f7f752c-519a-4f7a-fac0-0b9f3681c0e8"
      },
      "execution_count": 352,
      "outputs": [
        {
          "output_type": "stream",
          "name": "stdout",
          "text": [
            "/content/ImageAnalysisAssignment/Assignment1Data/ImageAnalysisAssignment/Assignment1Data/ImageAnalysisAssignment/Assignment1Data/ImageAnalysisAssignment/Assignment1Data/ImageAnalysisAssignment/Assignment1Data\n"
          ]
        }
      ]
    },
    {
      "cell_type": "code",
      "source": [
        "print(dfEvaluation.head(6))"
      ],
      "metadata": {
        "colab": {
          "base_uri": "https://localhost:8080/"
        },
        "id": "hrRdZ5gb7IJN",
        "outputId": "934cf9bd-c5e6-458e-ab5f-5846d77c7631"
      },
      "execution_count": 319,
      "outputs": [
        {
          "output_type": "stream",
          "name": "stdout",
          "text": [
            "  AlgorithmName  FoundMatchLabelPercentage  FoundFalsePositivePercentage  \\\n",
            "0           Hog                  33.333333                     62.500000   \n",
            "1     HogFilter                  40.740741                     67.164179   \n",
            "2          Haar                  14.814815                     65.217391   \n",
            "3    HaarFilter                  20.370370                     54.166667   \n",
            "4        Motion                  27.777778                     91.379310   \n",
            "5  MotionFilter                  40.740741                     87.709497   \n",
            "\n",
            "   MeanSquaredX  MeanSquaredY    TimeTakenMs  \n",
            "0     22.388889    115.388889   25480.143785  \n",
            "1     21.863636    156.363636   24194.033623  \n",
            "2    222.181818    108.818182   19142.400742  \n",
            "3    133.076923     60.153846   23331.218958  \n",
            "4    162.062500    163.437500  117759.154797  \n",
            "5    115.913043    139.391304   87338.169575  \n"
          ]
        }
      ]
    },
    {
      "cell_type": "markdown",
      "source": [
        "# Evaluation Per Image"
      ],
      "metadata": {
        "id": "HioQiCel8xDC"
      }
    },
    {
      "cell_type": "code",
      "source": [
        "def formEvaluationDfPerImage(labels, alogorithmName, dfResultsPersonFound):\n",
        "  dfEval= pd.DataFrame(columns=['Algorithm', 'Filename', 'TotalNumberLabelsInImage', '%LabelsFound', '%FalsePositives'])\n",
        "  dfResultByImage = dfPersonLevelResultsMotion.groupby(['Filename'])['Filename'].count()\n",
        "\n",
        "  for imageName, countFound in dfResultByImage.items():\n",
        "    noLabelsForImage = labels[labels['Filename'] == imageName].count()[0]\n",
        "    foundNegativeMatch = dfResultsPersonFound[(dfResultsPersonFound['Filename'] == imageName) & (dfResultsPersonFound['MatchFound'] == 'False')].count()[0]\n",
        "    foundPositiveMatch = dfResultsPersonFound[(dfResultsPersonFound['Filename'] == imageName) & (dfResultsPersonFound['MatchFound'] == 'True')].count()[0]\n",
        "    percentageFoundMatchLabelPerImage = (foundPositiveMatch/noLabelsForImage)*100\n",
        "    percentageFalsePositivePerImage = (foundNegativeMatch/(foundPositiveMatch + foundPositiveMatch))*100\n",
        "    dfEval = dfEval.append({'Algorithm': alogorithmName, 'Filename': imageName,'TotalNumberLabelsInImage': noLabelsForImage, '%LabelsFound': percentageFoundMatchLabelPerImage, '%FalsePositives': percentageFalsePositivePerImage}, ignore_index=True)\n",
        "\n",
        "  return dfEval"
      ],
      "metadata": {
        "id": "cJxpVqaB85TM"
      },
      "execution_count": null,
      "outputs": []
    },
    {
      "cell_type": "code",
      "source": [
        "dfEvaluationImageHog = formEvaluationDfPerImage(labels.copy(), 'Hog', dfPersonLevelResultsHog)\n",
        "dfEvaluationImageHaar = formEvaluationDfPerImage(labels.copy(), 'Haar', dfPersonLevelResultsHaar)\n",
        "dfEvaluationImageMotion = formEvaluationDfPerImage(labels.copy(),'Motion', dfPersonLevelResultsMotion)"
      ],
      "metadata": {
        "colab": {
          "base_uri": "https://localhost:8080/"
        },
        "id": "IVErMaNf-e-y",
        "outputId": "c965cc15-d313-4e56-9e9d-5265ba5a1e30"
      },
      "execution_count": null,
      "outputs": [
        {
          "output_type": "stream",
          "name": "stderr",
          "text": [
            "/usr/local/lib/python3.7/dist-packages/ipykernel_launcher.py:10: RuntimeWarning: divide by zero encountered in long_scalars\n",
            "  # Remove the CWD from sys.path while we load stuff.\n",
            "/usr/local/lib/python3.7/dist-packages/ipykernel_launcher.py:10: RuntimeWarning: invalid value encountered in long_scalars\n",
            "  # Remove the CWD from sys.path while we load stuff.\n"
          ]
        }
      ]
    },
    {
      "cell_type": "code",
      "source": [
        "print(dfEvaluationImageMotion)"
      ],
      "metadata": {
        "colab": {
          "base_uri": "https://localhost:8080/"
        },
        "id": "0LtWbLrFJV04",
        "outputId": "70fe080e-ff2e-4d5a-ca10-1e42eef27c65"
      },
      "execution_count": null,
      "outputs": [
        {
          "output_type": "stream",
          "name": "stdout",
          "text": [
            "  Algorithm        Filename TotalNumberLabelsInImage  %LabelsFound  \\\n",
            "0    Motion  1660197600.jpg                        1      0.000000   \n",
            "1    Motion  1660201200.jpg                       10     40.000000   \n",
            "2    Motion  1660204800.jpg                        8     50.000000   \n",
            "3    Motion  1660208400.jpg                        5     20.000000   \n",
            "4    Motion  1660212000.jpg                        2      0.000000   \n",
            "5    Motion  1660215600.jpg                        6     66.666667   \n",
            "6    Motion  1660219200.jpg                        3    100.000000   \n",
            "7    Motion  1660222800.jpg                        9     77.777778   \n",
            "8    Motion  1660226400.jpg                        7     57.142857   \n",
            "\n",
            "   %FalsePositives  \n",
            "0              inf  \n",
            "1       512.500000  \n",
            "2       387.500000  \n",
            "3       350.000000  \n",
            "4              inf  \n",
            "5       337.500000  \n",
            "6       400.000000  \n",
            "7        35.714286  \n",
            "8       337.500000  \n"
          ]
        }
      ]
    },
    {
      "cell_type": "code",
      "source": [
        "createHTMLOfDf(dfEvaluationImageMotion, \"dfEvalImage.html\")"
      ],
      "metadata": {
        "id": "p3Xz0kiLJ9vh"
      },
      "execution_count": null,
      "outputs": []
    },
    {
      "cell_type": "markdown",
      "source": [
        "# Individual Comparison"
      ],
      "metadata": {
        "id": "qzwrV6hk997L"
      }
    },
    {
      "cell_type": "code",
      "source": [
        "# Plot time\n",
        "fig = plt.figure()\n",
        "ax = fig.add_axes([0,0,1,1])\n",
        "labels = dfEvaluation.AlgorithmName\n",
        "Y = dfEvaluation.TimeTakenMs\n",
        "ax.bar(labels, Y)\n",
        "plt.ylabel(\"TimeTakenMs\")\n",
        "plt.title(\"TimeTakenMs Comparison\")\n",
        "plt.show()"
      ],
      "metadata": {
        "colab": {
          "base_uri": "https://localhost:8080/",
          "height": 352
        },
        "id": "CgBnYq6s-DGC",
        "outputId": "6c0825e6-c93b-4a50-f5e6-46b37a434ede"
      },
      "execution_count": 348,
      "outputs": [
        {
          "output_type": "display_data",
          "data": {
            "text/plain": [
              "<Figure size 432x288 with 1 Axes>"
            ],
            "image/png": "[encoded data removed]"
          },
          "metadata": {
            "needs_background": "light"
          }
        }
      ]
    },
    {
      "cell_type": "markdown",
      "source": [
        "FoundMatchLabelPercentage"
      ],
      "metadata": {
        "id": "1HGWbh5-heIW"
      }
    },
    {
      "cell_type": "code",
      "source": [
        "# Plot time\n",
        "fig = plt.figure()\n",
        "ax = fig.add_axes([0,0,1,1])\n",
        "labels = dfEvaluation.AlgorithmName\n",
        "Y = dfEvaluation.FoundMatchLabelPercentage\n",
        "ax.bar(labels, Y)\n",
        "plt.ylabel(\"FoundMatchLabelPercentage\")\n",
        "plt.title(\"FoundMatchLabelPercentage Comparison\")\n",
        "plt.show()"
      ],
      "metadata": {
        "colab": {
          "base_uri": "https://localhost:8080/",
          "height": 352
        },
        "id": "PcM-_IZAgMGd",
        "outputId": "dc286fa6-11c4-4cf1-f59e-8be7dbd928e3"
      },
      "execution_count": 349,
      "outputs": [
        {
          "output_type": "display_data",
          "data": {
            "text/plain": [
              "<Figure size 432x288 with 1 Axes>"
            ],
            "image/png": "[encoded data removed]"
          },
          "metadata": {
            "needs_background": "light"
          }
        }
      ]
    },
    {
      "cell_type": "markdown",
      "source": [
        "FoundFalsePositivePercentage"
      ],
      "metadata": {
        "id": "zkkWLCp5hxMf"
      }
    },
    {
      "cell_type": "code",
      "source": [
        "# Plot time\n",
        "fig = plt.figure()\n",
        "ax = fig.add_axes([0,0,1,1])\n",
        "labels = dfEvaluation.AlgorithmName\n",
        "Y = dfEvaluation.FoundFalsePositivePercentage\n",
        "ax.bar(labels, Y)\n",
        "plt.ylabel(\"FoundFalsePositivePercentage\")\n",
        "plt.title(\"FoundFalsePositivePercentage Comparison\")\n",
        "plt.show()"
      ],
      "metadata": {
        "colab": {
          "base_uri": "https://localhost:8080/",
          "height": 352
        },
        "id": "WnXr9hgzgdu0",
        "outputId": "6191b203-96e3-48e5-a90c-9e91d8fe67ff"
      },
      "execution_count": 350,
      "outputs": [
        {
          "output_type": "display_data",
          "data": {
            "text/plain": [
              "<Figure size 432x288 with 1 Axes>"
            ],
            "image/png": "[encoded data removed]"
          },
          "metadata": {
            "needs_background": "light"
          }
        }
      ]
    }
  ],
  "metadata": {
    "colab": {
      "collapsed_sections": [
        "AelAI3Q6TZb5",
        "8YaNkhC7Tixp",
        "redfN12ljk43",
        "2Sl01A-3gqjq",
        "Grbuubi8BvH8",
        "goCU7xo5lI2E",
        "C2VbRjpW9CiC",
        "HioQiCel8xDC"
      ],
      "provenance": [],
      "include_colab_link": true
    },
    "kernelspec": {
      "display_name": "Python 3",
      "name": "python3"
    },
    "language_info": {
      "name": "python"
    }
  },
  "nbformat": 4,
  "nbformat_minor": 0
}